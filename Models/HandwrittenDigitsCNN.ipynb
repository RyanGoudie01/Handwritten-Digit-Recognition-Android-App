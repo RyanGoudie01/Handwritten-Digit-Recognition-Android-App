{
  "nbformat": 4,
  "nbformat_minor": 0,
  "metadata": {
    "colab": {
      "provenance": []
    },
    "kernelspec": {
      "name": "python3",
      "display_name": "Python 3"
    },
    "language_info": {
      "name": "python"
    }
  },
  "cells": [
    {
      "cell_type": "code",
      "execution_count": null,
      "metadata": {
        "id": "9f3e8kr8G5Xb"
      },
      "outputs": [],
      "source": [
        "#Initialisation\n",
        "import tensorflow as tf\n",
        "from tensorflow import keras\n",
        "import matplotlib.pyplot as plt\n",
        "%matplotlib inline\n",
        "import numpy as np"
      ]
    },
    {
      "cell_type": "code",
      "source": [
        "#Importing datasets predefined train and test data\n",
        "(X_train , y_train),(X_test , y_test) = keras.datasets.mnist.load_data()\n",
        "X_train.shape"
      ],
      "metadata": {
        "colab": {
          "base_uri": "https://localhost:8080/"
        },
        "id": "ccAnh-8PHJDh",
        "outputId": "267688bd-944b-4c10-c4a8-6267bf0ee20c"
      },
      "execution_count": null,
      "outputs": [
        {
          "output_type": "execute_result",
          "data": {
            "text/plain": [
              "(60000, 28, 28)"
            ]
          },
          "metadata": {},
          "execution_count": 19
        }
      ]
    },
    {
      "cell_type": "code",
      "source": [
        "#Normalization\n",
        "X_train = tf.keras.utils.normalize(X_train, axis = 1)\n",
        "X_test = tf.keras.utils.normalize(X_test, axis = 1)"
      ],
      "metadata": {
        "id": "_eLJGd2THxT6"
      },
      "execution_count": null,
      "outputs": []
    },
    {
      "cell_type": "code",
      "source": [
        "#Resize the MNIST Image\n",
        "image_Size = 28\n",
        "X_train_flat = np.array(X_train).reshape(-1 , image_Size, image_Size,1)\n",
        "X_test_flat = np.array(X_test).reshape(-1 , image_Size, image_Size,1)\n",
        "print(\"X_train Dimensions\" , X_train_flat.shape)\n",
        "print(\"X_test Dimensions\" ,X_test_flat.shape)"
      ],
      "metadata": {
        "colab": {
          "base_uri": "https://localhost:8080/"
        },
        "id": "gNjV33WOIwQS",
        "outputId": "6492e6fd-58d6-4905-8dd2-43f849f7aded"
      },
      "execution_count": null,
      "outputs": [
        {
          "output_type": "stream",
          "name": "stdout",
          "text": [
            "X_train Dimensions (60000, 28, 28, 1)\n",
            "X_test Dimensions (10000, 28, 28, 1)\n"
          ]
        }
      ]
    },
    {
      "cell_type": "code",
      "source": [
        "#Building the CNN Model\n",
        "from keras.models import Sequential\n",
        "from keras.layers import Dense, Dropout, Activation, Flatten, Conv2D, MaxPooling2D\n",
        "\n",
        "model = Sequential()\n",
        "\n",
        "#Input Layer\n",
        "#Inputs the resized / reshaped image\n",
        "model.add(Conv2D(64, (3,3), input_shape = X_train_flat.shape[1:]))\n",
        "#Activation Function to make it non-linear\n",
        "model.add(Activation(\"relu\"))\n",
        "#Pooling layer to make a maxiumum values of 2x2\n",
        "model.add(MaxPooling2D(pool_size=(2,2)))\n",
        "\n",
        "#2nd Layer\n",
        "model.add(Conv2D(64, (3,3)))\n",
        "model.add(Activation(\"relu\"))\n",
        "model.add(MaxPooling2D(pool_size=(2,2)))\n",
        "\n",
        "#3rd Layer\n",
        "model.add(Conv2D(64, (3,3)))\n",
        "model.add(Activation(\"relu\"))\n",
        "model.add(MaxPooling2D(pool_size=(2,2)))\n",
        "\n",
        "#1st Fully connected layer\n",
        "model.add(Flatten()) #Flattens from 2D to 1D\n",
        "model.add(Dense(64))\n",
        "model.add(Activation(\"relu\"))\n",
        "\n",
        "#2nd Fully connected layer\n",
        "model.add(Dense(32))\n",
        "model.add(Activation(\"relu\"))\n",
        "\n",
        "#3rd Fully connected layer\n",
        "model.add(Dense(10)) # Reduces output to total number of classes , 0-9 (10)\n",
        "model.add(Activation(\"softmax\"))"
      ],
      "metadata": {
        "id": "YCdBHF21JfvN"
      },
      "execution_count": null,
      "outputs": []
    },
    {
      "cell_type": "code",
      "source": [
        "#Summaries the output shape and how the pooling allows the nueral network to determine a single output\n",
        "model.summary()"
      ],
      "metadata": {
        "colab": {
          "base_uri": "https://localhost:8080/"
        },
        "id": "hlL9fpTUpNex",
        "outputId": "c5e84dba-5a50-42ab-cd2f-3889c6109fa6"
      },
      "execution_count": null,
      "outputs": [
        {
          "output_type": "stream",
          "name": "stdout",
          "text": [
            "Model: \"sequential\"\n",
            "_________________________________________________________________\n",
            " Layer (type)                Output Shape              Param #   \n",
            "=================================================================\n",
            " conv2d (Conv2D)             (None, 26, 26, 64)        640       \n",
            "                                                                 \n",
            " activation (Activation)     (None, 26, 26, 64)        0         \n",
            "                                                                 \n",
            " max_pooling2d (MaxPooling2D  (None, 13, 13, 64)       0         \n",
            " )                                                               \n",
            "                                                                 \n",
            " conv2d_1 (Conv2D)           (None, 11, 11, 64)        36928     \n",
            "                                                                 \n",
            " activation_1 (Activation)   (None, 11, 11, 64)        0         \n",
            "                                                                 \n",
            " max_pooling2d_1 (MaxPooling  (None, 5, 5, 64)         0         \n",
            " 2D)                                                             \n",
            "                                                                 \n",
            " conv2d_2 (Conv2D)           (None, 3, 3, 64)          36928     \n",
            "                                                                 \n",
            " activation_2 (Activation)   (None, 3, 3, 64)          0         \n",
            "                                                                 \n",
            " max_pooling2d_2 (MaxPooling  (None, 1, 1, 64)         0         \n",
            " 2D)                                                             \n",
            "                                                                 \n",
            " flatten (Flatten)           (None, 64)                0         \n",
            "                                                                 \n",
            " dense (Dense)               (None, 64)                4160      \n",
            "                                                                 \n",
            " activation_3 (Activation)   (None, 64)                0         \n",
            "                                                                 \n",
            " dense_1 (Dense)             (None, 32)                2080      \n",
            "                                                                 \n",
            " activation_4 (Activation)   (None, 32)                0         \n",
            "                                                                 \n",
            " dense_2 (Dense)             (None, 10)                330       \n",
            "                                                                 \n",
            " activation_5 (Activation)   (None, 10)                0         \n",
            "                                                                 \n",
            "=================================================================\n",
            "Total params: 81,066\n",
            "Trainable params: 81,066\n",
            "Non-trainable params: 0\n",
            "_________________________________________________________________\n"
          ]
        }
      ]
    },
    {
      "cell_type": "code",
      "source": [
        "#Compile CNN Model\n",
        "model.compile(loss =\"sparse_categorical_crossentropy\", optimizer =\"adam\", metrics=['accuracy'])"
      ],
      "metadata": {
        "id": "a5tajNKhpjlw"
      },
      "execution_count": null,
      "outputs": []
    },
    {
      "cell_type": "code",
      "source": [
        "model.fit(X_train_flat,y_train,epochs=5, validation_split = 0.3)"
      ],
      "metadata": {
        "colab": {
          "base_uri": "https://localhost:8080/"
        },
        "id": "uhgr2acdrGu9",
        "outputId": "2fea0bac-9fee-4f6a-840b-2def51915d32"
      },
      "execution_count": null,
      "outputs": [
        {
          "output_type": "stream",
          "name": "stdout",
          "text": [
            "Epoch 1/5\n",
            "1313/1313 [==============================] - 74s 56ms/step - loss: 0.2657 - accuracy: 0.9190 - val_loss: 0.1234 - val_accuracy: 0.9630\n",
            "Epoch 2/5\n",
            "1313/1313 [==============================] - 71s 54ms/step - loss: 0.1112 - accuracy: 0.9658 - val_loss: 0.0943 - val_accuracy: 0.9702\n",
            "Epoch 3/5\n",
            "1313/1313 [==============================] - 73s 56ms/step - loss: 0.0791 - accuracy: 0.9750 - val_loss: 0.1036 - val_accuracy: 0.9686\n",
            "Epoch 4/5\n",
            "1313/1313 [==============================] - 71s 54ms/step - loss: 0.0625 - accuracy: 0.9806 - val_loss: 0.0659 - val_accuracy: 0.9788\n",
            "Epoch 5/5\n",
            "1313/1313 [==============================] - 75s 57ms/step - loss: 0.0501 - accuracy: 0.9842 - val_loss: 0.0566 - val_accuracy: 0.9824\n"
          ]
        },
        {
          "output_type": "execute_result",
          "data": {
            "text/plain": [
              "<keras.callbacks.History at 0x7f5a7db92d90>"
            ]
          },
          "metadata": {},
          "execution_count": 9
        }
      ]
    },
    {
      "cell_type": "code",
      "source": [
        "# Model Evaluation\n",
        "test_loss, test_acc = model.evaluate(X_test_flat, y_test)\n",
        "print(\"Loss on 10,000 test samples\", test_loss)\n",
        "print(\"Accuiarcy on 10,000 test samples\", test_acc)"
      ],
      "metadata": {
        "colab": {
          "base_uri": "https://localhost:8080/"
        },
        "id": "23sjBKI2NeLw",
        "outputId": "58b21b56-215e-424d-ce96-d20daa0c9b2f"
      },
      "execution_count": null,
      "outputs": [
        {
          "output_type": "stream",
          "name": "stdout",
          "text": [
            "313/313 [==============================] - 4s 14ms/step - loss: 0.0517 - accuracy: 0.9844\n",
            "Loss on 10,000 test samples 0.05167263001203537\n",
            "Accuiarcy on 10,000 test samples 0.9843999743461609\n"
          ]
        }
      ]
    },
    {
      "cell_type": "code",
      "source": [
        "#Image Prediction\n",
        "prediction = model.predict(([X_test_flat]))\n",
        "plt.matshow(X_test[5000]) #Displays the 28x28 image for the user\n",
        "prediction[5000] #Prints array with the 0-9 classifications"
      ],
      "metadata": {
        "colab": {
          "base_uri": "https://localhost:8080/",
          "height": 348
        },
        "id": "pIhAnai3QwRc",
        "outputId": "17e3dcd7-07b4-46ab-9eee-293d20835785"
      },
      "execution_count": null,
      "outputs": [
        {
          "output_type": "stream",
          "name": "stdout",
          "text": [
            "313/313 [==============================] - 4s 14ms/step\n"
          ]
        },
        {
          "output_type": "execute_result",
          "data": {
            "text/plain": [
              "array([3.0638145e-11, 2.9293767e-07, 3.4536875e-05, 9.9996310e-01,\n",
              "       1.2507392e-12, 2.6862915e-07, 2.4136802e-11, 1.2572235e-08,\n",
              "       1.6121963e-06, 2.5696739e-10], dtype=float32)"
            ]
          },
          "metadata": {},
          "execution_count": 11
        },
        {
          "output_type": "display_data",
          "data": {
            "text/plain": [
              "<Figure size 288x288 with 1 Axes>"
            ],
            "image/png": "[encoded data removed]"
          },
          "metadata": {
            "needs_background": "light"
          }
        }
      ]
    },
    {
      "cell_type": "code",
      "source": [
        "#Print integer prediction value\n",
        "np.argmax(prediction[5000])"
      ],
      "metadata": {
        "colab": {
          "base_uri": "https://localhost:8080/"
        },
        "id": "ZYKR3MmUSS7f",
        "outputId": "80115dc8-1de5-4ad2-f6e4-de88933e9708"
      },
      "execution_count": null,
      "outputs": [
        {
          "output_type": "execute_result",
          "data": {
            "text/plain": [
              "3"
            ]
          },
          "metadata": {},
          "execution_count": 12
        }
      ]
    },
    {
      "cell_type": "markdown",
      "source": [],
      "metadata": {
        "id": "H4awyn81Kf8T"
      }
    }
  ]
}